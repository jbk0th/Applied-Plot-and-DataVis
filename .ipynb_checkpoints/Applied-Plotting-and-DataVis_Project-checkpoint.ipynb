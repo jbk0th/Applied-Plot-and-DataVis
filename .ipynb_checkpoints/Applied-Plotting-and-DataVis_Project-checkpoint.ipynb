{
 "cells": [
  {
   "cell_type": "code",
   "execution_count": 44,
   "metadata": {
    "collapsed": true
   },
   "outputs": [],
   "source": [
    "import urllib\n",
    "import json\n",
    "import pandas as pd\n",
    "import numpy as np\n",
    "import requests\n",
    "import os\n",
    "\n",
    "## write script so you can ask questions to the bea server in an easy wasy with url \n",
    "## fields with your key, and other req info\n",
    "## then also help with things that you want to ask for\n",
    "\n"
   ]
  },
  {
   "cell_type": "code",
   "execution_count": 45,
   "metadata": {
    "collapsed": false
   },
   "outputs": [],
   "source": [
    "M_dat = pd.read_csv('mich_GDP.csv')\n",
    "    #read in the annual GDP data for both the Ann Arbor region and the whole state of Michigan\n",
    "    # acquire through Bureau of Economic Analysis API\n",
    "    # link: https://www.bea.gov/API/docs/index.htm"
   ]
  },
  {
   "cell_type": "code",
   "execution_count": 46,
   "metadata": {
    "collapsed": false
   },
   "outputs": [
    {
     "data": {
      "text/plain": [
       "(None, None)"
      ]
     },
     "execution_count": 46,
     "metadata": {},
     "output_type": "execute_result"
    }
   ],
   "source": [
    "Ann_ArborGDP = M_dat.loc[( M_dat['GeoName'].str.contains('Ann Arbor') )]\n",
    "    # Ann Arbor region only GDP data\n",
    "Mich_GDP = M_dat.loc[~( M_dat['GeoName'].str.contains('Ann Arbor') )]\n",
    "    # Full state of Michigan GDP data\n",
    "Mich_GDP = Mich_GDP.iloc[4:19]\n",
    "    # Removed years in which there was no data for Ann Arbor GDP as well\n",
    "Mich_GDP.set_index('Timeperiod', drop=True, inplace=True), Ann_ArborGDP.set_index('Timeperiod', drop=True, inplace=True)\n",
    "    #reset both indexes to the corresponding year of the GDP measurement"
   ]
  },
  {
   "cell_type": "code",
   "execution_count": 47,
   "metadata": {
    "collapsed": false
   },
   "outputs": [
    {
     "name": "stderr",
     "output_type": "stream",
     "text": [
      "C:\\Users\\Jason\\Anaconda3\\lib\\site-packages\\ipykernel\\__main__.py:2: SettingWithCopyWarning: \n",
      "A value is trying to be set on a copy of a slice from a DataFrame.\n",
      "Try using .loc[row_indexer,col_indexer] = value instead\n",
      "\n",
      "See the caveats in the documentation: http://pandas.pydata.org/pandas-docs/stable/indexing.html#indexing-view-versus-copy\n",
      "  from ipykernel import kernelapp as app\n"
     ]
    }
   ],
   "source": [
    "Mich_GDP['DataValue'] = Mich_GDP['DataValue'].apply(lambda x : float(x))\n",
    "Ann_ArborGDP['DataValue'] = Ann_ArborGDP['DataValue'].apply(lambda x : float(x))\n",
    "     # converted the numerical GDP data into a float data type to be able to manipulate"
   ]
  },
  {
   "cell_type": "code",
   "execution_count": 48,
   "metadata": {
    "collapsed": false
   },
   "outputs": [
    {
     "name": "stderr",
     "output_type": "stream",
     "text": [
      "C:\\Users\\Jason\\Anaconda3\\lib\\site-packages\\ipykernel\\__main__.py:2: SettingWithCopyWarning: \n",
      "A value is trying to be set on a copy of a slice from a DataFrame.\n",
      "Try using .loc[row_indexer,col_indexer] = value instead\n",
      "\n",
      "See the caveats in the documentation: http://pandas.pydata.org/pandas-docs/stable/indexing.html#indexing-view-versus-copy\n",
      "  from ipykernel import kernelapp as app\n"
     ]
    }
   ],
   "source": [
    "Mich_GDP['GDP_%Change'] = (Mich_GDP['DataValue'].pct_change().round(4))*100\n",
    "Ann_ArborGDP['GDP_%Change'] = (Ann_ArborGDP['DataValue'].pct_change().round(4))*100\n",
    "    # The below code checks that these values are correct for the first entry\n",
    "    # (Mich_GDP.DataValue[2002] - Mich_GDP.DataValue[2001])/(Mich_GDP.DataValue[2001])*100\n",
    "    \n",
    "    # Adds a new column for the percent change in GDP for each year in each respective area, and rounds to the hundreths place\n"
   ]
  },
  {
   "cell_type": "code",
   "execution_count": 49,
   "metadata": {
    "collapsed": false
   },
   "outputs": [
    {
     "data": {
      "text/html": [
       "<div>\n",
       "<table border=\"1\" class=\"dataframe\">\n",
       "  <thead>\n",
       "    <tr style=\"text-align: right;\">\n",
       "      <th></th>\n",
       "      <th>CL_UNIT</th>\n",
       "      <th>DataValue</th>\n",
       "      <th>GeoName</th>\n",
       "      <th>UNIT_MULT</th>\n",
       "      <th>GDP_%Change</th>\n",
       "    </tr>\n",
       "    <tr>\n",
       "      <th>Timeperiod</th>\n",
       "      <th></th>\n",
       "      <th></th>\n",
       "      <th></th>\n",
       "      <th></th>\n",
       "      <th></th>\n",
       "    </tr>\n",
       "  </thead>\n",
       "  <tbody>\n",
       "    <tr>\n",
       "      <th>2001</th>\n",
       "      <td>millions of chained 2009 dollars</td>\n",
       "      <td>408463.0</td>\n",
       "      <td>Michigan</td>\n",
       "      <td>6</td>\n",
       "      <td>NaN</td>\n",
       "    </tr>\n",
       "    <tr>\n",
       "      <th>2002</th>\n",
       "      <td>millions of chained 2009 dollars</td>\n",
       "      <td>419731.0</td>\n",
       "      <td>Michigan</td>\n",
       "      <td>6</td>\n",
       "      <td>2.76</td>\n",
       "    </tr>\n",
       "    <tr>\n",
       "      <th>2003</th>\n",
       "      <td>millions of chained 2009 dollars</td>\n",
       "      <td>427565.0</td>\n",
       "      <td>Michigan</td>\n",
       "      <td>6</td>\n",
       "      <td>1.87</td>\n",
       "    </tr>\n",
       "    <tr>\n",
       "      <th>2004</th>\n",
       "      <td>millions of chained 2009 dollars</td>\n",
       "      <td>426182.0</td>\n",
       "      <td>Michigan</td>\n",
       "      <td>6</td>\n",
       "      <td>-0.32</td>\n",
       "    </tr>\n",
       "    <tr>\n",
       "      <th>2005</th>\n",
       "      <td>millions of chained 2009 dollars</td>\n",
       "      <td>431383.0</td>\n",
       "      <td>Michigan</td>\n",
       "      <td>6</td>\n",
       "      <td>1.22</td>\n",
       "    </tr>\n",
       "    <tr>\n",
       "      <th>2006</th>\n",
       "      <td>millions of chained 2009 dollars</td>\n",
       "      <td>423582.0</td>\n",
       "      <td>Michigan</td>\n",
       "      <td>6</td>\n",
       "      <td>-1.81</td>\n",
       "    </tr>\n",
       "    <tr>\n",
       "      <th>2007</th>\n",
       "      <td>millions of chained 2009 dollars</td>\n",
       "      <td>419302.0</td>\n",
       "      <td>Michigan</td>\n",
       "      <td>6</td>\n",
       "      <td>-1.01</td>\n",
       "    </tr>\n",
       "    <tr>\n",
       "      <th>2008</th>\n",
       "      <td>millions of chained 2009 dollars</td>\n",
       "      <td>396515.0</td>\n",
       "      <td>Michigan</td>\n",
       "      <td>6</td>\n",
       "      <td>-5.43</td>\n",
       "    </tr>\n",
       "    <tr>\n",
       "      <th>2009</th>\n",
       "      <td>millions of chained 2009 dollars</td>\n",
       "      <td>363146.0</td>\n",
       "      <td>Michigan</td>\n",
       "      <td>6</td>\n",
       "      <td>-8.42</td>\n",
       "    </tr>\n",
       "    <tr>\n",
       "      <th>2010</th>\n",
       "      <td>millions of chained 2009 dollars</td>\n",
       "      <td>382885.0</td>\n",
       "      <td>Michigan</td>\n",
       "      <td>6</td>\n",
       "      <td>5.44</td>\n",
       "    </tr>\n",
       "    <tr>\n",
       "      <th>2011</th>\n",
       "      <td>millions of chained 2009 dollars</td>\n",
       "      <td>392653.0</td>\n",
       "      <td>Michigan</td>\n",
       "      <td>6</td>\n",
       "      <td>2.55</td>\n",
       "    </tr>\n",
       "    <tr>\n",
       "      <th>2012</th>\n",
       "      <td>millions of chained 2009 dollars</td>\n",
       "      <td>400063.0</td>\n",
       "      <td>Michigan</td>\n",
       "      <td>6</td>\n",
       "      <td>1.89</td>\n",
       "    </tr>\n",
       "    <tr>\n",
       "      <th>2013</th>\n",
       "      <td>millions of chained 2009 dollars</td>\n",
       "      <td>405793.0</td>\n",
       "      <td>Michigan</td>\n",
       "      <td>6</td>\n",
       "      <td>1.43</td>\n",
       "    </tr>\n",
       "    <tr>\n",
       "      <th>2014</th>\n",
       "      <td>millions of chained 2009 dollars</td>\n",
       "      <td>411639.0</td>\n",
       "      <td>Michigan</td>\n",
       "      <td>6</td>\n",
       "      <td>1.44</td>\n",
       "    </tr>\n",
       "    <tr>\n",
       "      <th>2015</th>\n",
       "      <td>millions of chained 2009 dollars</td>\n",
       "      <td>422800.0</td>\n",
       "      <td>Michigan</td>\n",
       "      <td>6</td>\n",
       "      <td>2.71</td>\n",
       "    </tr>\n",
       "  </tbody>\n",
       "</table>\n",
       "</div>"
      ],
      "text/plain": [
       "                                     CL_UNIT  DataValue   GeoName  UNIT_MULT  \\\n",
       "Timeperiod                                                                     \n",
       "2001        millions of chained 2009 dollars   408463.0  Michigan          6   \n",
       "2002        millions of chained 2009 dollars   419731.0  Michigan          6   \n",
       "2003        millions of chained 2009 dollars   427565.0  Michigan          6   \n",
       "2004        millions of chained 2009 dollars   426182.0  Michigan          6   \n",
       "2005        millions of chained 2009 dollars   431383.0  Michigan          6   \n",
       "2006        millions of chained 2009 dollars   423582.0  Michigan          6   \n",
       "2007        millions of chained 2009 dollars   419302.0  Michigan          6   \n",
       "2008        millions of chained 2009 dollars   396515.0  Michigan          6   \n",
       "2009        millions of chained 2009 dollars   363146.0  Michigan          6   \n",
       "2010        millions of chained 2009 dollars   382885.0  Michigan          6   \n",
       "2011        millions of chained 2009 dollars   392653.0  Michigan          6   \n",
       "2012        millions of chained 2009 dollars   400063.0  Michigan          6   \n",
       "2013        millions of chained 2009 dollars   405793.0  Michigan          6   \n",
       "2014        millions of chained 2009 dollars   411639.0  Michigan          6   \n",
       "2015        millions of chained 2009 dollars   422800.0  Michigan          6   \n",
       "\n",
       "            GDP_%Change  \n",
       "Timeperiod               \n",
       "2001                NaN  \n",
       "2002               2.76  \n",
       "2003               1.87  \n",
       "2004              -0.32  \n",
       "2005               1.22  \n",
       "2006              -1.81  \n",
       "2007              -1.01  \n",
       "2008              -5.43  \n",
       "2009              -8.42  \n",
       "2010               5.44  \n",
       "2011               2.55  \n",
       "2012               1.89  \n",
       "2013               1.43  \n",
       "2014               1.44  \n",
       "2015               2.71  "
      ]
     },
     "execution_count": 49,
     "metadata": {},
     "output_type": "execute_result"
    }
   ],
   "source": [
    "Mich_GDP"
   ]
  },
  {
   "cell_type": "code",
   "execution_count": null,
   "metadata": {
    "collapsed": true
   },
   "outputs": [],
   "source": []
  }
 ],
 "metadata": {
  "kernelspec": {
   "display_name": "Python 3",
   "language": "python",
   "name": "python3"
  },
  "language_info": {
   "codemirror_mode": {
    "name": "ipython",
    "version": 3
   },
   "file_extension": ".py",
   "mimetype": "text/x-python",
   "name": "python",
   "nbconvert_exporter": "python",
   "pygments_lexer": "ipython3",
   "version": "3.6.0"
  }
 },
 "nbformat": 4,
 "nbformat_minor": 2
}
